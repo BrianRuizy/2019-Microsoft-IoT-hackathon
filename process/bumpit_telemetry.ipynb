{
 "cells": [
  {
   "cell_type": "code",
   "execution_count": 1,
   "metadata": {
    "scrolled": true
   },
   "outputs": [
    {
     "name": "stdout",
     "output_type": "stream",
     "text": [
      "Defaulting to user installation because normal site-packages is not writeable\n",
      "Requirement already satisfied: pandas in /home/br/.local/lib/python3.9/site-packages (1.2.4)\n",
      "Requirement already satisfied: pytz>=2017.3 in /home/br/.local/lib/python3.9/site-packages (from pandas) (2021.1)\n",
      "Requirement already satisfied: numpy>=1.16.5 in /home/br/.local/lib/python3.9/site-packages (from pandas) (1.20.2)\n",
      "Requirement already satisfied: python-dateutil>=2.7.3 in /usr/lib/python3.9/site-packages (from pandas) (2.8.1)\n",
      "Requirement already satisfied: six>=1.5 in /usr/lib/python3.9/site-packages (from python-dateutil>=2.7.3->pandas) (1.15.0)\n",
      "Note: you may need to restart the kernel to use updated packages.\n"
     ]
    }
   ],
   "source": [
    "pip install pandas"
   ]
  },
  {
   "cell_type": "code",
   "execution_count": 2,
   "metadata": {},
   "outputs": [
    {
     "name": "stdout",
     "output_type": "stream",
     "text": [
      "Defaulting to user installation because normal site-packages is not writeable\n",
      "Requirement already satisfied: matplotlib in /home/br/.local/lib/python3.9/site-packages (3.4.1)\n",
      "Requirement already satisfied: cycler>=0.10 in /home/br/.local/lib/python3.9/site-packages (from matplotlib) (0.10.0)\n",
      "Requirement already satisfied: python-dateutil>=2.7 in /usr/lib/python3.9/site-packages (from matplotlib) (2.8.1)\n",
      "Requirement already satisfied: numpy>=1.16 in /home/br/.local/lib/python3.9/site-packages (from matplotlib) (1.20.2)\n",
      "Requirement already satisfied: kiwisolver>=1.0.1 in /home/br/.local/lib/python3.9/site-packages (from matplotlib) (1.3.1)\n",
      "Requirement already satisfied: pillow>=6.2.0 in /usr/lib/python3.9/site-packages (from matplotlib) (8.1.0)\n",
      "Requirement already satisfied: pyparsing>=2.2.1 in /usr/lib/python3.9/site-packages (from matplotlib) (2.4.7)\n",
      "Requirement already satisfied: six in /usr/lib/python3.9/site-packages (from cycler>=0.10->matplotlib) (1.15.0)\n",
      "Requirement already satisfied: six in /usr/lib/python3.9/site-packages (from cycler>=0.10->matplotlib) (1.15.0)\n",
      "Note: you may need to restart the kernel to use updated packages.\n"
     ]
    }
   ],
   "source": [
    "pip install matplotlib"
   ]
  },
  {
   "cell_type": "code",
   "execution_count": 3,
   "metadata": {},
   "outputs": [],
   "source": [
    "import pandas as pd\n",
    "import matplotlib.pyplot as plt"
   ]
  },
  {
   "cell_type": "code",
   "execution_count": 4,
   "metadata": {},
   "outputs": [
    {
     "data": {
      "text/plain": [
       "Index(['ACCELEROMETER X (m/s²)', 'ACCELEROMETER Y (m/s²)',\n",
       "       'ACCELEROMETER Z (m/s²)', 'LOCATION Latitude : ',\n",
       "       'LOCATION Longitude : ', 'LOCATION Altitude ( m)',\n",
       "       'LOCATION Accuracy ( m)', 'Time'],\n",
       "      dtype='object')"
      ]
     },
     "execution_count": 4,
     "metadata": {},
     "output_type": "execute_result"
    }
   ],
   "source": [
    "df = pd.read_csv('/home/br/Downloads/testdata.csv')\n",
    "df.columns"
   ]
  },
  {
   "cell_type": "code",
   "execution_count": 53,
   "metadata": {},
   "outputs": [],
   "source": [
    "df['Time'] = pd.to_datetime(df.Time, format='%Y-%m-%d %H:%M:%S:%f')"
   ]
  },
  {
   "cell_type": "code",
   "execution_count": 5,
   "metadata": {
    "scrolled": true
   },
   "outputs": [
    {
     "data": {
      "text/html": [
       "<div>\n",
       "<style scoped>\n",
       "    .dataframe tbody tr th:only-of-type {\n",
       "        vertical-align: middle;\n",
       "    }\n",
       "\n",
       "    .dataframe tbody tr th {\n",
       "        vertical-align: top;\n",
       "    }\n",
       "\n",
       "    .dataframe thead th {\n",
       "        text-align: right;\n",
       "    }\n",
       "</style>\n",
       "<table border=\"1\" class=\"dataframe\">\n",
       "  <thead>\n",
       "    <tr style=\"text-align: right;\">\n",
       "      <th></th>\n",
       "      <th>ACCELEROMETER X (m/s²)</th>\n",
       "      <th>ACCELEROMETER Y (m/s²)</th>\n",
       "      <th>ACCELEROMETER Z (m/s²)</th>\n",
       "      <th>LOCATION Latitude :</th>\n",
       "      <th>LOCATION Longitude :</th>\n",
       "      <th>LOCATION Altitude ( m)</th>\n",
       "      <th>LOCATION Accuracy ( m)</th>\n",
       "      <th>Time</th>\n",
       "    </tr>\n",
       "  </thead>\n",
       "  <tbody>\n",
       "    <tr>\n",
       "      <th>0</th>\n",
       "      <td>-1.03</td>\n",
       "      <td>-0.18</td>\n",
       "      <td>9.69</td>\n",
       "      <td>29.7955</td>\n",
       "      <td>-95.568</td>\n",
       "      <td>6</td>\n",
       "      <td>78.1645</td>\n",
       "      <td>2019-12-14 16:28:30:975</td>\n",
       "    </tr>\n",
       "    <tr>\n",
       "      <th>1</th>\n",
       "      <td>-1.01</td>\n",
       "      <td>-0.03</td>\n",
       "      <td>9.70</td>\n",
       "      <td>29.7955</td>\n",
       "      <td>-95.568</td>\n",
       "      <td>6</td>\n",
       "      <td>78.1645</td>\n",
       "      <td>2019-12-14 16:28:31:475</td>\n",
       "    </tr>\n",
       "    <tr>\n",
       "      <th>2</th>\n",
       "      <td>-1.07</td>\n",
       "      <td>-0.02</td>\n",
       "      <td>9.67</td>\n",
       "      <td>29.7955</td>\n",
       "      <td>-95.568</td>\n",
       "      <td>6</td>\n",
       "      <td>78.1645</td>\n",
       "      <td>2019-12-14 16:28:31:975</td>\n",
       "    </tr>\n",
       "    <tr>\n",
       "      <th>3</th>\n",
       "      <td>-0.91</td>\n",
       "      <td>-0.03</td>\n",
       "      <td>9.75</td>\n",
       "      <td>29.7955</td>\n",
       "      <td>-95.568</td>\n",
       "      <td>6</td>\n",
       "      <td>78.1645</td>\n",
       "      <td>2019-12-14 16:28:32:475</td>\n",
       "    </tr>\n",
       "    <tr>\n",
       "      <th>4</th>\n",
       "      <td>-0.96</td>\n",
       "      <td>-0.20</td>\n",
       "      <td>9.67</td>\n",
       "      <td>29.7955</td>\n",
       "      <td>-95.568</td>\n",
       "      <td>6</td>\n",
       "      <td>78.1645</td>\n",
       "      <td>2019-12-14 16:28:32:975</td>\n",
       "    </tr>\n",
       "  </tbody>\n",
       "</table>\n",
       "</div>"
      ],
      "text/plain": [
       "   ACCELEROMETER X (m/s²)  ACCELEROMETER Y (m/s²)  ACCELEROMETER Z (m/s²)  \\\n",
       "0                   -1.03                   -0.18                    9.69   \n",
       "1                   -1.01                   -0.03                    9.70   \n",
       "2                   -1.07                   -0.02                    9.67   \n",
       "3                   -0.91                   -0.03                    9.75   \n",
       "4                   -0.96                   -0.20                    9.67   \n",
       "\n",
       "   LOCATION Latitude :   LOCATION Longitude :   LOCATION Altitude ( m)  \\\n",
       "0               29.7955                -95.568                       6   \n",
       "1               29.7955                -95.568                       6   \n",
       "2               29.7955                -95.568                       6   \n",
       "3               29.7955                -95.568                       6   \n",
       "4               29.7955                -95.568                       6   \n",
       "\n",
       "   LOCATION Accuracy ( m)                     Time  \n",
       "0                 78.1645  2019-12-14 16:28:30:975  \n",
       "1                 78.1645  2019-12-14 16:28:31:475  \n",
       "2                 78.1645  2019-12-14 16:28:31:975  \n",
       "3                 78.1645  2019-12-14 16:28:32:475  \n",
       "4                 78.1645  2019-12-14 16:28:32:975  "
      ]
     },
     "execution_count": 5,
     "metadata": {},
     "output_type": "execute_result"
    }
   ],
   "source": [
    "df.head()"
   ]
  },
  {
   "cell_type": "code",
   "execution_count": 6,
   "metadata": {},
   "outputs": [
    {
     "data": {
      "text/plain": [
       "<AxesSubplot:xlabel='Time'>"
      ]
     },
     "execution_count": 6,
     "metadata": {},
     "output_type": "execute_result"
    },
    {
     "data": {
      "image/png": "[encoded data removed]",
      "text/plain": [
       "<Figure size 432x288 with 1 Axes>"
      ]
     },
     "metadata": {
      "needs_background": "light"
     },
     "output_type": "display_data"
    }
   ],
   "source": [
    "df[['ACCELEROMETER X (m/s²)', 'ACCELEROMETER Y (m/s²)',\n",
    "       'ACCELEROMETER Z (m/s²)', 'Time']].plot(x='Time')"
   ]
  },
  {
   "cell_type": "code",
   "execution_count": 7,
   "metadata": {},
   "outputs": [
    {
     "name": "stdout",
     "output_type": "stream",
     "text": [
      "Defaulting to user installation because normal site-packages is not writeable\n",
      "Requirement already satisfied: plotly in /home/br/.local/lib/python3.9/site-packages (4.14.3)\n",
      "Requirement already satisfied: retrying>=1.3.3 in /usr/lib/python3.9/site-packages (from plotly) (1.3.3)\n",
      "Requirement already satisfied: six in /usr/lib/python3.9/site-packages (from plotly) (1.15.0)\n",
      "Requirement already satisfied: six in /usr/lib/python3.9/site-packages (from plotly) (1.15.0)\n",
      "Note: you may need to restart the kernel to use updated packages.\n"
     ]
    }
   ],
   "source": [
    "pip install plotly"
   ]
  },
  {
   "cell_type": "code",
   "execution_count": null,
   "metadata": {},
   "outputs": [],
   "source": [
    " pip install -U kaleido"
   ]
  },
  {
   "cell_type": "code",
   "execution_count": 8,
   "metadata": {},
   "outputs": [],
   "source": [
    "import plotly.graph_objects as go\n",
    "import numpy as np"
   ]
  },
  {
   "cell_type": "code",
   "execution_count": 55,
   "metadata": {},
   "outputs": [
    {
     "data": {
      "application/vnd.plotly.v1+json": {
       "config": {
        "plotlyServerURL": "https://plot.ly"
       },
       "data": [
        {
         "mode": "lines+markers",
         "name": " X (m/s²)",
         "type": "scatter",
         "x": [
          "2019-12-14T16:28:30.975000",
          "2019-12-14T16:28:31.475000",
          "2019-12-14T16:28:31.975000",
          "2019-12-14T16:28:32.475000",
          "2019-12-14T16:28:32.975000",
          "2019-12-14T16:28:33.475000",
          "2019-12-14T16:28:33.975000",
          "2019-12-14T16:28:34.475000",
          "2019-12-14T16:28:34.975000",
          "2019-12-14T16:28:35.475000",
          "2019-12-14T16:28:35.975000",
          "2019-12-14T16:28:36.475000",
          "2019-12-14T16:28:36.975000",
          "2019-12-14T16:28:37.475000",
          "2019-12-14T16:28:37.975000",
          "2019-12-14T16:28:38.475000",
          "2019-12-14T16:28:38.975000",
          "2019-12-14T16:28:39.475000",
          "2019-12-14T16:28:39.975000",
          "2019-12-14T16:28:40.475000",
          "2019-12-14T16:28:40.975000",
          "2019-12-14T16:28:41.475000",
          "2019-12-14T16:28:41.975000",
          "2019-12-14T16:28:42.475000",
          "2019-12-14T16:28:42.975000",
          "2019-12-14T16:28:43.475000",
          "2019-12-14T16:28:43.975000",
          "2019-12-14T16:28:44.475000",
          "2019-12-14T16:28:44.975000",
          "2019-12-14T16:28:45.475000",
          "2019-12-14T16:28:45.975000",
          "2019-12-14T16:28:46.475000",
          "2019-12-14T16:28:46.975000",
          "2019-12-14T16:28:47.475000",
          "2019-12-14T16:28:47.975000",
          "2019-12-14T16:28:48.475000",
          "2019-12-14T16:28:48.975000",
          "2019-12-14T16:28:49.475000",
          "2019-12-14T16:28:49.975000",
          "2019-12-14T16:28:50.475000",
          "2019-12-14T16:28:50.975000",
          "2019-12-14T16:28:51.475000",
          "2019-12-14T16:28:51.975000",
          "2019-12-14T16:28:52.475000",
          "2019-12-14T16:28:52.975000",
          "2019-12-14T16:28:53.475000",
          "2019-12-14T16:28:53.975000",
          "2019-12-14T16:28:54.475000",
          "2019-12-14T16:28:54.975000",
          "2019-12-14T16:28:55.475000"
         ],
         "y": [
          -1.03,
          -1.01,
          -1.07,
          -0.91,
          -0.96,
          -0.76,
          -0.93,
          -0.92,
          0.14,
          -1.52,
          -2.9,
          -1.2,
          -1.89,
          -1.82,
          -0.96,
          -0.95,
          -0.7,
          -0.41,
          -1.02,
          1.27,
          -0.96,
          -0.53,
          -0.77,
          1.44,
          -1.09,
          -2.11,
          -1.66,
          -1.43,
          0.94,
          -1.43,
          -1.21,
          -1.06,
          1.41,
          -0.07,
          -0.97,
          0.18,
          -1.44,
          -0.14,
          -1.35,
          -2.3,
          -2.34,
          0.08,
          1.05,
          1.56,
          3.61,
          2.02,
          0.37,
          -1.35,
          -2.11,
          -1.83
         ]
        },
        {
         "mode": "lines+markers",
         "name": " Y (m/s²)",
         "type": "scatter",
         "x": [
          "2019-12-14T16:28:30.975000",
          "2019-12-14T16:28:31.475000",
          "2019-12-14T16:28:31.975000",
          "2019-12-14T16:28:32.475000",
          "2019-12-14T16:28:32.975000",
          "2019-12-14T16:28:33.475000",
          "2019-12-14T16:28:33.975000",
          "2019-12-14T16:28:34.475000",
          "2019-12-14T16:28:34.975000",
          "2019-12-14T16:28:35.475000",
          "2019-12-14T16:28:35.975000",
          "2019-12-14T16:28:36.475000",
          "2019-12-14T16:28:36.975000",
          "2019-12-14T16:28:37.475000",
          "2019-12-14T16:28:37.975000",
          "2019-12-14T16:28:38.475000",
          "2019-12-14T16:28:38.975000",
          "2019-12-14T16:28:39.475000",
          "2019-12-14T16:28:39.975000",
          "2019-12-14T16:28:40.475000",
          "2019-12-14T16:28:40.975000",
          "2019-12-14T16:28:41.475000",
          "2019-12-14T16:28:41.975000",
          "2019-12-14T16:28:42.475000",
          "2019-12-14T16:28:42.975000",
          "2019-12-14T16:28:43.475000",
          "2019-12-14T16:28:43.975000",
          "2019-12-14T16:28:44.475000",
          "2019-12-14T16:28:44.975000",
          "2019-12-14T16:28:45.475000",
          "2019-12-14T16:28:45.975000",
          "2019-12-14T16:28:46.475000",
          "2019-12-14T16:28:46.975000",
          "2019-12-14T16:28:47.475000",
          "2019-12-14T16:28:47.975000",
          "2019-12-14T16:28:48.475000",
          "2019-12-14T16:28:48.975000",
          "2019-12-14T16:28:49.475000",
          "2019-12-14T16:28:49.975000",
          "2019-12-14T16:28:50.475000",
          "2019-12-14T16:28:50.975000",
          "2019-12-14T16:28:51.475000",
          "2019-12-14T16:28:51.975000",
          "2019-12-14T16:28:52.475000",
          "2019-12-14T16:28:52.975000",
          "2019-12-14T16:28:53.475000",
          "2019-12-14T16:28:53.975000",
          "2019-12-14T16:28:54.475000",
          "2019-12-14T16:28:54.975000",
          "2019-12-14T16:28:55.475000"
         ],
         "y": [
          -0.18,
          -0.03,
          -0.02,
          -0.03,
          -0.2,
          -0.19,
          -0.14,
          -0.23,
          1.35,
          -0.15,
          -0.34,
          0.26,
          -0.37,
          -0.63,
          0.92,
          -0.42,
          0.25,
          0.34,
          -0.69,
          1.11,
          -0.02,
          0.29,
          0.07,
          -1.02,
          -1.62,
          -0.03,
          -0.69,
          -0.02,
          -0.9,
          -0.11,
          -0.47,
          -0.25,
          -2.35,
          -0.79,
          -0.2,
          -0.84,
          -1.23,
          0.76,
          0.4,
          0.47,
          0.98,
          -1.6,
          -0.92,
          -0.05,
          6.48,
          3.49,
          4.92,
          -0.12,
          0.44,
          0.83
         ]
        },
        {
         "mode": "lines+markers",
         "name": " Z (m/s²)",
         "type": "scatter",
         "x": [
          "2019-12-14T16:28:30.975000",
          "2019-12-14T16:28:31.475000",
          "2019-12-14T16:28:31.975000",
          "2019-12-14T16:28:32.475000",
          "2019-12-14T16:28:32.975000",
          "2019-12-14T16:28:33.475000",
          "2019-12-14T16:28:33.975000",
          "2019-12-14T16:28:34.475000",
          "2019-12-14T16:28:34.975000",
          "2019-12-14T16:28:35.475000",
          "2019-12-14T16:28:35.975000",
          "2019-12-14T16:28:36.475000",
          "2019-12-14T16:28:36.975000",
          "2019-12-14T16:28:37.475000",
          "2019-12-14T16:28:37.975000",
          "2019-12-14T16:28:38.475000",
          "2019-12-14T16:28:38.975000",
          "2019-12-14T16:28:39.475000",
          "2019-12-14T16:28:39.975000",
          "2019-12-14T16:28:40.475000",
          "2019-12-14T16:28:40.975000",
          "2019-12-14T16:28:41.475000",
          "2019-12-14T16:28:41.975000",
          "2019-12-14T16:28:42.475000",
          "2019-12-14T16:28:42.975000",
          "2019-12-14T16:28:43.475000",
          "2019-12-14T16:28:43.975000",
          "2019-12-14T16:28:44.475000",
          "2019-12-14T16:28:44.975000",
          "2019-12-14T16:28:45.475000",
          "2019-12-14T16:28:45.975000",
          "2019-12-14T16:28:46.475000",
          "2019-12-14T16:28:46.975000",
          "2019-12-14T16:28:47.475000",
          "2019-12-14T16:28:47.975000",
          "2019-12-14T16:28:48.475000",
          "2019-12-14T16:28:48.975000",
          "2019-12-14T16:28:49.475000",
          "2019-12-14T16:28:49.975000",
          "2019-12-14T16:28:50.475000",
          "2019-12-14T16:28:50.975000",
          "2019-12-14T16:28:51.475000",
          "2019-12-14T16:28:51.975000",
          "2019-12-14T16:28:52.475000",
          "2019-12-14T16:28:52.975000",
          "2019-12-14T16:28:53.475000",
          "2019-12-14T16:28:53.975000",
          "2019-12-14T16:28:54.475000",
          "2019-12-14T16:28:54.975000",
          "2019-12-14T16:28:55.475000"
         ],
         "y": [
          9.69,
          9.7,
          9.67,
          9.75,
          9.67,
          9.78,
          9.66,
          9.77,
          15.84,
          7.68,
          9.23,
          9.62,
          9.48,
          9.43,
          10.44,
          4.17,
          9.79,
          9.83,
          10.07,
          21.43,
          6.75,
          9.82,
          9.64,
          5.81,
          5.08,
          8.93,
          9.56,
          4.13,
          19.85,
          8.68,
          9.9,
          9.6,
          7.55,
          5.39,
          9.97,
          5.66,
          8.08,
          9.92,
          9.72,
          9.03,
          9.37,
          -2.86,
          -4.42,
          0.7,
          19.04,
          15.58,
          18.7,
          9.35,
          9.35,
          9.46
         ]
        }
       ],
       "layout": {
        "template": {
         "data": {
          "bar": [
           {
            "error_x": {
             "color": "#2a3f5f"
            },
            "error_y": {
             "color": "#2a3f5f"
            },
            "marker": {
             "line": {
              "color": "#E5ECF6",
              "width": 0.5
             }
            },
            "type": "bar"
           }
          ],
          "barpolar": [
           {
            "marker": {
             "line": {
              "color": "#E5ECF6",
              "width": 0.5
             }
            },
            "type": "barpolar"
           }
          ],
          "carpet": [
           {
            "aaxis": {
             "endlinecolor": "#2a3f5f",
             "gridcolor": "white",
             "linecolor": "white",
             "minorgridcolor": "white",
             "startlinecolor": "#2a3f5f"
            },
            "baxis": {
             "endlinecolor": "#2a3f5f",
             "gridcolor": "white",
             "linecolor": "white",
             "minorgridcolor": "white",
             "startlinecolor": "#2a3f5f"
            },
            "type": "carpet"
           }
          ],
          "choropleth": [
           {
            "colorbar": {
             "outlinewidth": 0,
             "ticks": ""
            },
            "type": "choropleth"
           }
          ],
          "contour": [
           {
            "colorbar": {
             "outlinewidth": 0,
             "ticks": ""
            },
            "colorscale": [
             [
              0,
              "#0d0887"
             ],
             [
              0.1111111111111111,
              "#46039f"
             ],
             [
              0.2222222222222222,
              "#7201a8"
             ],
             [
              0.3333333333333333,
              "#9c179e"
             ],
             [
              0.4444444444444444,
              "#bd3786"
             ],
             [
              0.5555555555555556,
              "#d8576b"
             ],
             [
              0.6666666666666666,
              "#ed7953"
             ],
             [
              0.7777777777777778,
              "#fb9f3a"
             ],
             [
              0.8888888888888888,
              "#fdca26"
             ],
             [
              1,
              "#f0f921"
             ]
            ],
            "type": "contour"
           }
          ],
          "contourcarpet": [
           {
            "colorbar": {
             "outlinewidth": 0,
             "ticks": ""
            },
            "type": "contourcarpet"
           }
          ],
          "heatmap": [
           {
            "colorbar": {
             "outlinewidth": 0,
             "ticks": ""
            },
            "colorscale": [
             [
              0,
              "#0d0887"
             ],
             [
              0.1111111111111111,
              "#46039f"
             ],
             [
              0.2222222222222222,
              "#7201a8"
             ],
             [
              0.3333333333333333,
              "#9c179e"
             ],
             [
              0.4444444444444444,
              "#bd3786"
             ],
             [
              0.5555555555555556,
              "#d8576b"
             ],
             [
              0.6666666666666666,
              "#ed7953"
             ],
             [
              0.7777777777777778,
              "#fb9f3a"
             ],
             [
              0.8888888888888888,
              "#fdca26"
             ],
             [
              1,
              "#f0f921"
             ]
            ],
            "type": "heatmap"
           }
          ],
          "heatmapgl": [
           {
            "colorbar": {
             "outlinewidth": 0,
             "ticks": ""
            },
            "colorscale": [
             [
              0,
              "#0d0887"
             ],
             [
              0.1111111111111111,
              "#46039f"
             ],
             [
              0.2222222222222222,
              "#7201a8"
             ],
             [
              0.3333333333333333,
              "#9c179e"
             ],
             [
              0.4444444444444444,
              "#bd3786"
             ],
             [
              0.5555555555555556,
              "#d8576b"
             ],
             [
              0.6666666666666666,
              "#ed7953"
             ],
             [
              0.7777777777777778,
              "#fb9f3a"
             ],
             [
              0.8888888888888888,
              "#fdca26"
             ],
             [
              1,
              "#f0f921"
             ]
            ],
            "type": "heatmapgl"
           }
          ],
          "histogram": [
           {
            "marker": {
             "colorbar": {
              "outlinewidth": 0,
              "ticks": ""
             }
            },
            "type": "histogram"
           }
          ],
          "histogram2d": [
           {
            "colorbar": {
             "outlinewidth": 0,
             "ticks": ""
            },
            "colorscale": [
             [
              0,
              "#0d0887"
             ],
             [
              0.1111111111111111,
              "#46039f"
             ],
             [
              0.2222222222222222,
              "#7201a8"
             ],
             [
              0.3333333333333333,
              "#9c179e"
             ],
             [
              0.4444444444444444,
              "#bd3786"
             ],
             [
              0.5555555555555556,
              "#d8576b"
             ],
             [
              0.6666666666666666,
              "#ed7953"
             ],
             [
              0.7777777777777778,
              "#fb9f3a"
             ],
             [
              0.8888888888888888,
              "#fdca26"
             ],
             [
              1,
              "#f0f921"
             ]
            ],
            "type": "histogram2d"
           }
          ],
          "histogram2dcontour": [
           {
            "colorbar": {
             "outlinewidth": 0,
             "ticks": ""
            },
            "colorscale": [
             [
              0,
              "#0d0887"
             ],
             [
              0.1111111111111111,
              "#46039f"
             ],
             [
              0.2222222222222222,
              "#7201a8"
             ],
             [
              0.3333333333333333,
              "#9c179e"
             ],
             [
              0.4444444444444444,
              "#bd3786"
             ],
             [
              0.5555555555555556,
              "#d8576b"
             ],
             [
              0.6666666666666666,
              "#ed7953"
             ],
             [
              0.7777777777777778,
              "#fb9f3a"
             ],
             [
              0.8888888888888888,
              "#fdca26"
             ],
             [
              1,
              "#f0f921"
             ]
            ],
            "type": "histogram2dcontour"
           }
          ],
          "mesh3d": [
           {
            "colorbar": {
             "outlinewidth": 0,
             "ticks": ""
            },
            "type": "mesh3d"
           }
          ],
          "parcoords": [
           {
            "line": {
             "colorbar": {
              "outlinewidth": 0,
              "ticks": ""
             }
            },
            "type": "parcoords"
           }
          ],
          "pie": [
           {
            "automargin": true,
            "type": "pie"
           }
          ],
          "scatter": [
           {
            "marker": {
             "colorbar": {
              "outlinewidth": 0,
              "ticks": ""
             }
            },
            "type": "scatter"
           }
          ],
          "scatter3d": [
           {
            "line": {
             "colorbar": {
              "outlinewidth": 0,
              "ticks": ""
             }
            },
            "marker": {
             "colorbar": {
              "outlinewidth": 0,
              "ticks": ""
             }
            },
            "type": "scatter3d"
           }
          ],
          "scattercarpet": [
           {
            "marker": {
             "colorbar": {
              "outlinewidth": 0,
              "ticks": ""
             }
            },
            "type": "scattercarpet"
           }
          ],
          "scattergeo": [
           {
            "marker": {
             "colorbar": {
              "outlinewidth": 0,
              "ticks": ""
             }
            },
            "type": "scattergeo"
           }
          ],
          "scattergl": [
           {
            "marker": {
             "colorbar": {
              "outlinewidth": 0,
              "ticks": ""
             }
            },
            "type": "scattergl"
           }
          ],
          "scattermapbox": [
           {
            "marker": {
             "colorbar": {
              "outlinewidth": 0,
              "ticks": ""
             }
            },
            "type": "scattermapbox"
           }
          ],
          "scatterpolar": [
           {
            "marker": {
             "colorbar": {
              "outlinewidth": 0,
              "ticks": ""
             }
            },
            "type": "scatterpolar"
           }
          ],
          "scatterpolargl": [
           {
            "marker": {
             "colorbar": {
              "outlinewidth": 0,
              "ticks": ""
             }
            },
            "type": "scatterpolargl"
           }
          ],
          "scatterternary": [
           {
            "marker": {
             "colorbar": {
              "outlinewidth": 0,
              "ticks": ""
             }
            },
            "type": "scatterternary"
           }
          ],
          "surface": [
           {
            "colorbar": {
             "outlinewidth": 0,
             "ticks": ""
            },
            "colorscale": [
             [
              0,
              "#0d0887"
             ],
             [
              0.1111111111111111,
              "#46039f"
             ],
             [
              0.2222222222222222,
              "#7201a8"
             ],
             [
              0.3333333333333333,
              "#9c179e"
             ],
             [
              0.4444444444444444,
              "#bd3786"
             ],
             [
              0.5555555555555556,
              "#d8576b"
             ],
             [
              0.6666666666666666,
              "#ed7953"
             ],
             [
              0.7777777777777778,
              "#fb9f3a"
             ],
             [
              0.8888888888888888,
              "#fdca26"
             ],
             [
              1,
              "#f0f921"
             ]
            ],
            "type": "surface"
           }
          ],
          "table": [
           {
            "cells": {
             "fill": {
              "color": "#EBF0F8"
             },
             "line": {
              "color": "white"
             }
            },
            "header": {
             "fill": {
              "color": "#C8D4E3"
             },
             "line": {
              "color": "white"
             }
            },
            "type": "table"
           }
          ]
         },
         "layout": {
          "annotationdefaults": {
           "arrowcolor": "#2a3f5f",
           "arrowhead": 0,
           "arrowwidth": 1
          },
          "autotypenumbers": "strict",
          "coloraxis": {
           "colorbar": {
            "outlinewidth": 0,
            "ticks": ""
           }
          },
          "colorscale": {
           "diverging": [
            [
             0,
             "#8e0152"
            ],
            [
             0.1,
             "#c51b7d"
            ],
            [
             0.2,
             "#de77ae"
            ],
            [
             0.3,
             "#f1b6da"
            ],
            [
             0.4,
             "#fde0ef"
            ],
            [
             0.5,
             "#f7f7f7"
            ],
            [
             0.6,
             "#e6f5d0"
            ],
            [
             0.7,
             "#b8e186"
            ],
            [
             0.8,
             "#7fbc41"
            ],
            [
             0.9,
             "#4d9221"
            ],
            [
             1,
             "#276419"
            ]
           ],
           "sequential": [
            [
             0,
             "#0d0887"
            ],
            [
             0.1111111111111111,
             "#46039f"
            ],
            [
             0.2222222222222222,
             "#7201a8"
            ],
            [
             0.3333333333333333,
             "#9c179e"
            ],
            [
             0.4444444444444444,
             "#bd3786"
            ],
            [
             0.5555555555555556,
             "#d8576b"
            ],
            [
             0.6666666666666666,
             "#ed7953"
            ],
            [
             0.7777777777777778,
             "#fb9f3a"
            ],
            [
             0.8888888888888888,
             "#fdca26"
            ],
            [
             1,
             "#f0f921"
            ]
           ],
           "sequentialminus": [
            [
             0,
             "#0d0887"
            ],
            [
             0.1111111111111111,
             "#46039f"
            ],
            [
             0.2222222222222222,
             "#7201a8"
            ],
            [
             0.3333333333333333,
             "#9c179e"
            ],
            [
             0.4444444444444444,
             "#bd3786"
            ],
            [
             0.5555555555555556,
             "#d8576b"
            ],
            [
             0.6666666666666666,
             "#ed7953"
            ],
            [
             0.7777777777777778,
             "#fb9f3a"
            ],
            [
             0.8888888888888888,
             "#fdca26"
            ],
            [
             1,
             "#f0f921"
            ]
           ]
          },
          "colorway": [
           "#636efa",
           "#EF553B",
           "#00cc96",
           "#ab63fa",
           "#FFA15A",
           "#19d3f3",
           "#FF6692",
           "#B6E880",
           "#FF97FF",
           "#FECB52"
          ],
          "font": {
           "color": "#2a3f5f"
          },
          "geo": {
           "bgcolor": "white",
           "lakecolor": "white",
           "landcolor": "#E5ECF6",
           "showlakes": true,
           "showland": true,
           "subunitcolor": "white"
          },
          "hoverlabel": {
           "align": "left"
          },
          "hovermode": "closest",
          "mapbox": {
           "style": "light"
          },
          "paper_bgcolor": "white",
          "plot_bgcolor": "#E5ECF6",
          "polar": {
           "angularaxis": {
            "gridcolor": "white",
            "linecolor": "white",
            "ticks": ""
           },
           "bgcolor": "#E5ECF6",
           "radialaxis": {
            "gridcolor": "white",
            "linecolor": "white",
            "ticks": ""
           }
          },
          "scene": {
           "xaxis": {
            "backgroundcolor": "#E5ECF6",
            "gridcolor": "white",
            "gridwidth": 2,
            "linecolor": "white",
            "showbackground": true,
            "ticks": "",
            "zerolinecolor": "white"
           },
           "yaxis": {
            "backgroundcolor": "#E5ECF6",
            "gridcolor": "white",
            "gridwidth": 2,
            "linecolor": "white",
            "showbackground": true,
            "ticks": "",
            "zerolinecolor": "white"
           },
           "zaxis": {
            "backgroundcolor": "#E5ECF6",
            "gridcolor": "white",
            "gridwidth": 2,
            "linecolor": "white",
            "showbackground": true,
            "ticks": "",
            "zerolinecolor": "white"
           }
          },
          "shapedefaults": {
           "line": {
            "color": "#2a3f5f"
           }
          },
          "ternary": {
           "aaxis": {
            "gridcolor": "white",
            "linecolor": "white",
            "ticks": ""
           },
           "baxis": {
            "gridcolor": "white",
            "linecolor": "white",
            "ticks": ""
           },
           "bgcolor": "#E5ECF6",
           "caxis": {
            "gridcolor": "white",
            "linecolor": "white",
            "ticks": ""
           }
          },
          "title": {
           "x": 0.05
          },
          "xaxis": {
           "automargin": true,
           "gridcolor": "white",
           "linecolor": "white",
           "ticks": "",
           "title": {
            "standoff": 15
           },
           "zerolinecolor": "white",
           "zerolinewidth": 2
          },
          "yaxis": {
           "automargin": true,
           "gridcolor": "white",
           "linecolor": "white",
           "ticks": "",
           "title": {
            "standoff": 15
           },
           "zerolinecolor": "white",
           "zerolinewidth": 2
          }
         }
        }
       }
      },
      "text/html": [
       "<div>                            <div id=\"04a28a1e-e03f-4ab7-8671-3f38e792e0a9\" class=\"plotly-graph-div\" style=\"height:525px; width:100%;\"></div>            <script type=\"text/javascript\">                require([\"plotly\"], function(Plotly) {                    window.PLOTLYENV=window.PLOTLYENV || {};                                    if (document.getElementById(\"04a28a1e-e03f-4ab7-8671-3f38e792e0a9\")) {                    Plotly.newPlot(                        \"04a28a1e-e03f-4ab7-8671-3f38e792e0a9\",                        [{\"mode\": \"lines+markers\", \"name\": \" X (m/s\\u00b2)\", \"type\": \"scatter\", \"x\": [\"2019-12-14T16:28:30.975000\", \"2019-12-14T16:28:31.475000\", \"2019-12-14T16:28:31.975000\", \"2019-12-14T16:28:32.475000\", \"2019-12-14T16:28:32.975000\", \"2019-12-14T16:28:33.475000\", \"2019-12-14T16:28:33.975000\", \"2019-12-14T16:28:34.475000\", \"2019-12-14T16:28:34.975000\", \"2019-12-14T16:28:35.475000\", \"2019-12-14T16:28:35.975000\", \"2019-12-14T16:28:36.475000\", \"2019-12-14T16:28:36.975000\", \"2019-12-14T16:28:37.475000\", \"2019-12-14T16:28:37.975000\", \"2019-12-14T16:28:38.475000\", \"2019-12-14T16:28:38.975000\", \"2019-12-14T16:28:39.475000\", \"2019-12-14T16:28:39.975000\", \"2019-12-14T16:28:40.475000\", \"2019-12-14T16:28:40.975000\", \"2019-12-14T16:28:41.475000\", \"2019-12-14T16:28:41.975000\", \"2019-12-14T16:28:42.475000\", \"2019-12-14T16:28:42.975000\", \"2019-12-14T16:28:43.475000\", \"2019-12-14T16:28:43.975000\", \"2019-12-14T16:28:44.475000\", \"2019-12-14T16:28:44.975000\", \"2019-12-14T16:28:45.475000\", \"2019-12-14T16:28:45.975000\", \"2019-12-14T16:28:46.475000\", \"2019-12-14T16:28:46.975000\", \"2019-12-14T16:28:47.475000\", \"2019-12-14T16:28:47.975000\", \"2019-12-14T16:28:48.475000\", \"2019-12-14T16:28:48.975000\", \"2019-12-14T16:28:49.475000\", \"2019-12-14T16:28:49.975000\", \"2019-12-14T16:28:50.475000\", \"2019-12-14T16:28:50.975000\", \"2019-12-14T16:28:51.475000\", \"2019-12-14T16:28:51.975000\", \"2019-12-14T16:28:52.475000\", \"2019-12-14T16:28:52.975000\", \"2019-12-14T16:28:53.475000\", \"2019-12-14T16:28:53.975000\", \"2019-12-14T16:28:54.475000\", \"2019-12-14T16:28:54.975000\", \"2019-12-14T16:28:55.475000\"], \"y\": [-1.03, -1.01, -1.07, -0.91, -0.96, -0.76, -0.93, -0.92, 0.14, -1.52, -2.9, -1.2, -1.89, -1.82, -0.96, -0.95, -0.7, -0.41, -1.02, 1.27, -0.96, -0.53, -0.77, 1.44, -1.09, -2.11, -1.66, -1.43, 0.94, -1.43, -1.21, -1.06, 1.41, -0.07, -0.97, 0.18, -1.44, -0.14, -1.35, -2.3, -2.34, 0.08, 1.05, 1.56, 3.61, 2.02, 0.37, -1.35, -2.11, -1.83]}, {\"mode\": \"lines+markers\", \"name\": \" Y (m/s\\u00b2)\", \"type\": \"scatter\", \"x\": [\"2019-12-14T16:28:30.975000\", \"2019-12-14T16:28:31.475000\", \"2019-12-14T16:28:31.975000\", \"2019-12-14T16:28:32.475000\", \"2019-12-14T16:28:32.975000\", \"2019-12-14T16:28:33.475000\", \"2019-12-14T16:28:33.975000\", \"2019-12-14T16:28:34.475000\", \"2019-12-14T16:28:34.975000\", \"2019-12-14T16:28:35.475000\", \"2019-12-14T16:28:35.975000\", \"2019-12-14T16:28:36.475000\", \"2019-12-14T16:28:36.975000\", \"2019-12-14T16:28:37.475000\", \"2019-12-14T16:28:37.975000\", \"2019-12-14T16:28:38.475000\", \"2019-12-14T16:28:38.975000\", \"2019-12-14T16:28:39.475000\", \"2019-12-14T16:28:39.975000\", \"2019-12-14T16:28:40.475000\", \"2019-12-14T16:28:40.975000\", \"2019-12-14T16:28:41.475000\", \"2019-12-14T16:28:41.975000\", \"2019-12-14T16:28:42.475000\", \"2019-12-14T16:28:42.975000\", \"2019-12-14T16:28:43.475000\", \"2019-12-14T16:28:43.975000\", \"2019-12-14T16:28:44.475000\", \"2019-12-14T16:28:44.975000\", \"2019-12-14T16:28:45.475000\", \"2019-12-14T16:28:45.975000\", \"2019-12-14T16:28:46.475000\", \"2019-12-14T16:28:46.975000\", \"2019-12-14T16:28:47.475000\", \"2019-12-14T16:28:47.975000\", \"2019-12-14T16:28:48.475000\", \"2019-12-14T16:28:48.975000\", \"2019-12-14T16:28:49.475000\", \"2019-12-14T16:28:49.975000\", \"2019-12-14T16:28:50.475000\", \"2019-12-14T16:28:50.975000\", \"2019-12-14T16:28:51.475000\", \"2019-12-14T16:28:51.975000\", \"2019-12-14T16:28:52.475000\", \"2019-12-14T16:28:52.975000\", \"2019-12-14T16:28:53.475000\", \"2019-12-14T16:28:53.975000\", \"2019-12-14T16:28:54.475000\", \"2019-12-14T16:28:54.975000\", \"2019-12-14T16:28:55.475000\"], \"y\": [-0.18, -0.03, -0.02, -0.03, -0.2, -0.19, -0.14, -0.23, 1.35, -0.15, -0.34, 0.26, -0.37, -0.63, 0.92, -0.42, 0.25, 0.34, -0.69, 1.11, -0.02, 0.29, 0.07, -1.02, -1.62, -0.03, -0.69, -0.02, -0.9, -0.11, -0.47, -0.25, -2.35, -0.79, -0.2, -0.84, -1.23, 0.76, 0.4, 0.47, 0.98, -1.6, -0.92, -0.05, 6.48, 3.49, 4.92, -0.12, 0.44, 0.83]}, {\"mode\": \"lines+markers\", \"name\": \" Z (m/s\\u00b2)\", \"type\": \"scatter\", \"x\": [\"2019-12-14T16:28:30.975000\", \"2019-12-14T16:28:31.475000\", \"2019-12-14T16:28:31.975000\", \"2019-12-14T16:28:32.475000\", \"2019-12-14T16:28:32.975000\", \"2019-12-14T16:28:33.475000\", \"2019-12-14T16:28:33.975000\", \"2019-12-14T16:28:34.475000\", \"2019-12-14T16:28:34.975000\", \"2019-12-14T16:28:35.475000\", \"2019-12-14T16:28:35.975000\", \"2019-12-14T16:28:36.475000\", \"2019-12-14T16:28:36.975000\", \"2019-12-14T16:28:37.475000\", \"2019-12-14T16:28:37.975000\", \"2019-12-14T16:28:38.475000\", \"2019-12-14T16:28:38.975000\", \"2019-12-14T16:28:39.475000\", \"2019-12-14T16:28:39.975000\", \"2019-12-14T16:28:40.475000\", \"2019-12-14T16:28:40.975000\", \"2019-12-14T16:28:41.475000\", \"2019-12-14T16:28:41.975000\", \"2019-12-14T16:28:42.475000\", \"2019-12-14T16:28:42.975000\", \"2019-12-14T16:28:43.475000\", \"2019-12-14T16:28:43.975000\", \"2019-12-14T16:28:44.475000\", \"2019-12-14T16:28:44.975000\", \"2019-12-14T16:28:45.475000\", \"2019-12-14T16:28:45.975000\", \"2019-12-14T16:28:46.475000\", \"2019-12-14T16:28:46.975000\", \"2019-12-14T16:28:47.475000\", \"2019-12-14T16:28:47.975000\", \"2019-12-14T16:28:48.475000\", \"2019-12-14T16:28:48.975000\", \"2019-12-14T16:28:49.475000\", \"2019-12-14T16:28:49.975000\", \"2019-12-14T16:28:50.475000\", \"2019-12-14T16:28:50.975000\", \"2019-12-14T16:28:51.475000\", \"2019-12-14T16:28:51.975000\", \"2019-12-14T16:28:52.475000\", \"2019-12-14T16:28:52.975000\", \"2019-12-14T16:28:53.475000\", \"2019-12-14T16:28:53.975000\", \"2019-12-14T16:28:54.475000\", \"2019-12-14T16:28:54.975000\", \"2019-12-14T16:28:55.475000\"], \"y\": [9.69, 9.7, 9.67, 9.75, 9.67, 9.78, 9.66, 9.77, 15.84, 7.68, 9.23, 9.62, 9.48, 9.43, 10.44, 4.17, 9.79, 9.83, 10.07, 21.43, 6.75, 9.82, 9.64, 5.81, 5.08, 8.93, 9.56, 4.13, 19.85, 8.68, 9.9, 9.6, 7.55, 5.39, 9.97, 5.66, 8.08, 9.92, 9.72, 9.03, 9.37, -2.86, -4.42, 0.7, 19.04, 15.58, 18.7, 9.35, 9.35, 9.46]}],                        {\"template\": {\"data\": {\"bar\": [{\"error_x\": {\"color\": \"#2a3f5f\"}, \"error_y\": {\"color\": \"#2a3f5f\"}, \"marker\": {\"line\": {\"color\": \"#E5ECF6\", \"width\": 0.5}}, \"type\": \"bar\"}], \"barpolar\": [{\"marker\": {\"line\": {\"color\": \"#E5ECF6\", \"width\": 0.5}}, \"type\": \"barpolar\"}], \"carpet\": [{\"aaxis\": {\"endlinecolor\": \"#2a3f5f\", \"gridcolor\": \"white\", \"linecolor\": \"white\", \"minorgridcolor\": \"white\", \"startlinecolor\": \"#2a3f5f\"}, \"baxis\": {\"endlinecolor\": \"#2a3f5f\", \"gridcolor\": \"white\", \"linecolor\": \"white\", \"minorgridcolor\": \"white\", \"startlinecolor\": \"#2a3f5f\"}, \"type\": \"carpet\"}], \"choropleth\": [{\"colorbar\": {\"outlinewidth\": 0, \"ticks\": \"\"}, \"type\": \"choropleth\"}], \"contour\": [{\"colorbar\": {\"outlinewidth\": 0, \"ticks\": \"\"}, \"colorscale\": [[0.0, \"#0d0887\"], [0.1111111111111111, \"#46039f\"], [0.2222222222222222, \"#7201a8\"], [0.3333333333333333, \"#9c179e\"], [0.4444444444444444, \"#bd3786\"], [0.5555555555555556, \"#d8576b\"], [0.6666666666666666, \"#ed7953\"], [0.7777777777777778, \"#fb9f3a\"], [0.8888888888888888, \"#fdca26\"], [1.0, \"#f0f921\"]], \"type\": \"contour\"}], \"contourcarpet\": [{\"colorbar\": {\"outlinewidth\": 0, \"ticks\": \"\"}, \"type\": \"contourcarpet\"}], \"heatmap\": [{\"colorbar\": {\"outlinewidth\": 0, \"ticks\": \"\"}, \"colorscale\": [[0.0, \"#0d0887\"], [0.1111111111111111, \"#46039f\"], [0.2222222222222222, \"#7201a8\"], [0.3333333333333333, \"#9c179e\"], [0.4444444444444444, \"#bd3786\"], [0.5555555555555556, \"#d8576b\"], [0.6666666666666666, \"#ed7953\"], [0.7777777777777778, \"#fb9f3a\"], [0.8888888888888888, \"#fdca26\"], [1.0, \"#f0f921\"]], \"type\": \"heatmap\"}], \"heatmapgl\": [{\"colorbar\": {\"outlinewidth\": 0, \"ticks\": \"\"}, \"colorscale\": [[0.0, \"#0d0887\"], [0.1111111111111111, \"#46039f\"], [0.2222222222222222, \"#7201a8\"], [0.3333333333333333, \"#9c179e\"], [0.4444444444444444, \"#bd3786\"], [0.5555555555555556, \"#d8576b\"], [0.6666666666666666, \"#ed7953\"], [0.7777777777777778, \"#fb9f3a\"], [0.8888888888888888, \"#fdca26\"], [1.0, \"#f0f921\"]], \"type\": \"heatmapgl\"}], \"histogram\": [{\"marker\": {\"colorbar\": {\"outlinewidth\": 0, \"ticks\": \"\"}}, \"type\": \"histogram\"}], \"histogram2d\": [{\"colorbar\": {\"outlinewidth\": 0, \"ticks\": \"\"}, \"colorscale\": [[0.0, \"#0d0887\"], [0.1111111111111111, \"#46039f\"], [0.2222222222222222, \"#7201a8\"], [0.3333333333333333, \"#9c179e\"], [0.4444444444444444, \"#bd3786\"], [0.5555555555555556, \"#d8576b\"], [0.6666666666666666, \"#ed7953\"], [0.7777777777777778, \"#fb9f3a\"], [0.8888888888888888, \"#fdca26\"], [1.0, \"#f0f921\"]], \"type\": \"histogram2d\"}], \"histogram2dcontour\": [{\"colorbar\": {\"outlinewidth\": 0, \"ticks\": \"\"}, \"colorscale\": [[0.0, \"#0d0887\"], [0.1111111111111111, \"#46039f\"], [0.2222222222222222, \"#7201a8\"], [0.3333333333333333, \"#9c179e\"], [0.4444444444444444, \"#bd3786\"], [0.5555555555555556, \"#d8576b\"], [0.6666666666666666, \"#ed7953\"], [0.7777777777777778, \"#fb9f3a\"], [0.8888888888888888, \"#fdca26\"], [1.0, \"#f0f921\"]], \"type\": \"histogram2dcontour\"}], \"mesh3d\": [{\"colorbar\": {\"outlinewidth\": 0, \"ticks\": \"\"}, \"type\": \"mesh3d\"}], \"parcoords\": [{\"line\": {\"colorbar\": {\"outlinewidth\": 0, \"ticks\": \"\"}}, \"type\": \"parcoords\"}], \"pie\": [{\"automargin\": true, \"type\": \"pie\"}], \"scatter\": [{\"marker\": {\"colorbar\": {\"outlinewidth\": 0, \"ticks\": \"\"}}, \"type\": \"scatter\"}], \"scatter3d\": [{\"line\": {\"colorbar\": {\"outlinewidth\": 0, \"ticks\": \"\"}}, \"marker\": {\"colorbar\": {\"outlinewidth\": 0, \"ticks\": \"\"}}, \"type\": \"scatter3d\"}], \"scattercarpet\": [{\"marker\": {\"colorbar\": {\"outlinewidth\": 0, \"ticks\": \"\"}}, \"type\": \"scattercarpet\"}], \"scattergeo\": [{\"marker\": {\"colorbar\": {\"outlinewidth\": 0, \"ticks\": \"\"}}, \"type\": \"scattergeo\"}], \"scattergl\": [{\"marker\": {\"colorbar\": {\"outlinewidth\": 0, \"ticks\": \"\"}}, \"type\": \"scattergl\"}], \"scattermapbox\": [{\"marker\": {\"colorbar\": {\"outlinewidth\": 0, \"ticks\": \"\"}}, \"type\": \"scattermapbox\"}], \"scatterpolar\": [{\"marker\": {\"colorbar\": {\"outlinewidth\": 0, \"ticks\": \"\"}}, \"type\": \"scatterpolar\"}], \"scatterpolargl\": [{\"marker\": {\"colorbar\": {\"outlinewidth\": 0, \"ticks\": \"\"}}, \"type\": \"scatterpolargl\"}], \"scatterternary\": [{\"marker\": {\"colorbar\": {\"outlinewidth\": 0, \"ticks\": \"\"}}, \"type\": \"scatterternary\"}], \"surface\": [{\"colorbar\": {\"outlinewidth\": 0, \"ticks\": \"\"}, \"colorscale\": [[0.0, \"#0d0887\"], [0.1111111111111111, \"#46039f\"], [0.2222222222222222, \"#7201a8\"], [0.3333333333333333, \"#9c179e\"], [0.4444444444444444, \"#bd3786\"], [0.5555555555555556, \"#d8576b\"], [0.6666666666666666, \"#ed7953\"], [0.7777777777777778, \"#fb9f3a\"], [0.8888888888888888, \"#fdca26\"], [1.0, \"#f0f921\"]], \"type\": \"surface\"}], \"table\": [{\"cells\": {\"fill\": {\"color\": \"#EBF0F8\"}, \"line\": {\"color\": \"white\"}}, \"header\": {\"fill\": {\"color\": \"#C8D4E3\"}, \"line\": {\"color\": \"white\"}}, \"type\": \"table\"}]}, \"layout\": {\"annotationdefaults\": {\"arrowcolor\": \"#2a3f5f\", \"arrowhead\": 0, \"arrowwidth\": 1}, \"autotypenumbers\": \"strict\", \"coloraxis\": {\"colorbar\": {\"outlinewidth\": 0, \"ticks\": \"\"}}, \"colorscale\": {\"diverging\": [[0, \"#8e0152\"], [0.1, \"#c51b7d\"], [0.2, \"#de77ae\"], [0.3, \"#f1b6da\"], [0.4, \"#fde0ef\"], [0.5, \"#f7f7f7\"], [0.6, \"#e6f5d0\"], [0.7, \"#b8e186\"], [0.8, \"#7fbc41\"], [0.9, \"#4d9221\"], [1, \"#276419\"]], \"sequential\": [[0.0, \"#0d0887\"], [0.1111111111111111, \"#46039f\"], [0.2222222222222222, \"#7201a8\"], [0.3333333333333333, \"#9c179e\"], [0.4444444444444444, \"#bd3786\"], [0.5555555555555556, \"#d8576b\"], [0.6666666666666666, \"#ed7953\"], [0.7777777777777778, \"#fb9f3a\"], [0.8888888888888888, \"#fdca26\"], [1.0, \"#f0f921\"]], \"sequentialminus\": [[0.0, \"#0d0887\"], [0.1111111111111111, \"#46039f\"], [0.2222222222222222, \"#7201a8\"], [0.3333333333333333, \"#9c179e\"], [0.4444444444444444, \"#bd3786\"], [0.5555555555555556, \"#d8576b\"], [0.6666666666666666, \"#ed7953\"], [0.7777777777777778, \"#fb9f3a\"], [0.8888888888888888, \"#fdca26\"], [1.0, \"#f0f921\"]]}, \"colorway\": [\"#636efa\", \"#EF553B\", \"#00cc96\", \"#ab63fa\", \"#FFA15A\", \"#19d3f3\", \"#FF6692\", \"#B6E880\", \"#FF97FF\", \"#FECB52\"], \"font\": {\"color\": \"#2a3f5f\"}, \"geo\": {\"bgcolor\": \"white\", \"lakecolor\": \"white\", \"landcolor\": \"#E5ECF6\", \"showlakes\": true, \"showland\": true, \"subunitcolor\": \"white\"}, \"hoverlabel\": {\"align\": \"left\"}, \"hovermode\": \"closest\", \"mapbox\": {\"style\": \"light\"}, \"paper_bgcolor\": \"white\", \"plot_bgcolor\": \"#E5ECF6\", \"polar\": {\"angularaxis\": {\"gridcolor\": \"white\", \"linecolor\": \"white\", \"ticks\": \"\"}, \"bgcolor\": \"#E5ECF6\", \"radialaxis\": {\"gridcolor\": \"white\", \"linecolor\": \"white\", \"ticks\": \"\"}}, \"scene\": {\"xaxis\": {\"backgroundcolor\": \"#E5ECF6\", \"gridcolor\": \"white\", \"gridwidth\": 2, \"linecolor\": \"white\", \"showbackground\": true, \"ticks\": \"\", \"zerolinecolor\": \"white\"}, \"yaxis\": {\"backgroundcolor\": \"#E5ECF6\", \"gridcolor\": \"white\", \"gridwidth\": 2, \"linecolor\": \"white\", \"showbackground\": true, \"ticks\": \"\", \"zerolinecolor\": \"white\"}, \"zaxis\": {\"backgroundcolor\": \"#E5ECF6\", \"gridcolor\": \"white\", \"gridwidth\": 2, \"linecolor\": \"white\", \"showbackground\": true, \"ticks\": \"\", \"zerolinecolor\": \"white\"}}, \"shapedefaults\": {\"line\": {\"color\": \"#2a3f5f\"}}, \"ternary\": {\"aaxis\": {\"gridcolor\": \"white\", \"linecolor\": \"white\", \"ticks\": \"\"}, \"baxis\": {\"gridcolor\": \"white\", \"linecolor\": \"white\", \"ticks\": \"\"}, \"bgcolor\": \"#E5ECF6\", \"caxis\": {\"gridcolor\": \"white\", \"linecolor\": \"white\", \"ticks\": \"\"}}, \"title\": {\"x\": 0.05}, \"xaxis\": {\"automargin\": true, \"gridcolor\": \"white\", \"linecolor\": \"white\", \"ticks\": \"\", \"title\": {\"standoff\": 15}, \"zerolinecolor\": \"white\", \"zerolinewidth\": 2}, \"yaxis\": {\"automargin\": true, \"gridcolor\": \"white\", \"linecolor\": \"white\", \"ticks\": \"\", \"title\": {\"standoff\": 15}, \"zerolinecolor\": \"white\", \"zerolinewidth\": 2}}}},                        {\"responsive\": true}                    ).then(function(){\n",
       "                            \n",
       "var gd = document.getElementById('04a28a1e-e03f-4ab7-8671-3f38e792e0a9');\n",
       "var x = new MutationObserver(function (mutations, observer) {{\n",
       "        var display = window.getComputedStyle(gd).display;\n",
       "        if (!display || display === 'none') {{\n",
       "            console.log([gd, 'removed!']);\n",
       "            Plotly.purge(gd);\n",
       "            observer.disconnect();\n",
       "        }}\n",
       "}});\n",
       "\n",
       "// Listen for the removal of the full notebook cells\n",
       "var notebookContainer = gd.closest('#notebook-container');\n",
       "if (notebookContainer) {{\n",
       "    x.observe(notebookContainer, {childList: true});\n",
       "}}\n",
       "\n",
       "// Listen for the clearing of the current output cell\n",
       "var outputEl = gd.closest('.output');\n",
       "if (outputEl) {{\n",
       "    x.observe(outputEl, {childList: true});\n",
       "}}\n",
       "\n",
       "                        })                };                });            </script>        </div>"
      ]
     },
     "metadata": {},
     "output_type": "display_data"
    }
   ],
   "source": [
    "\n",
    "# Create traces\n",
    "fig = go.Figure()\n",
    "fig.add_trace(go.Scatter(x=df['Time'], y=df['ACCELEROMETER X (m/s²)'],\n",
    "                    mode='lines+markers',\n",
    "                    name=' X (m/s²)'))\n",
    "fig.add_trace(go.Scatter(x=df['Time'], y=df['ACCELEROMETER Y (m/s²)'],\n",
    "                    mode='lines+markers',\n",
    "                    name=' Y (m/s²)'))\n",
    "fig.add_trace(go.Scatter(x=df['Time'], y=df['ACCELEROMETER Z (m/s²)'],\n",
    "                    mode='lines+markers', \n",
    "                    name=' Z (m/s²)'))\n",
    "\n",
    "fig.show()\n",
    "fig.write_image(\"fig1.svg\")  # save image locally\n"
   ]
  }
 ],
 "metadata": {
  "kernelspec": {
   "display_name": "Python 3",
   "language": "python",
   "name": "python3"
  },
  "language_info": {
   "codemirror_mode": {
    "name": "ipython",
    "version": 3
   },
   "file_extension": ".py",
   "mimetype": "text/x-python",
   "name": "python",
   "nbconvert_exporter": "python",
   "pygments_lexer": "ipython3",
   "version": "3.9.2"
  }
 },
 "nbformat": 4,
 "nbformat_minor": 4
}
